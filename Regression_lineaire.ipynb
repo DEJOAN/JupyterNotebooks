{
 "cells": [
  {
   "cell_type": "markdown",
   "id": "b8d0aa71",
   "metadata": {},
   "source": [
    "# Méthode de Monte-Carlo pour déterminer le coefficient directeur moyen d'une droite de régression linéaire et son incertitude-type\n",
    "### Détermination de l'intensité de pesanteur terrestre à l'aide d'un smartphone :\n",
    "\n",
    "   - Mesure de la durée de chute d'un objet métallique, pour une hauteur $h$ donnée (utilisation du chronométre sonore de l'application phyphox);\n",
    "   - pour chaque hauteur une dizaine de mesures sont réalisées, ce qui permet de calculer la durée moyenne $\\Delta t$ (associée à chaque valeur de $h$);\n",
    "   - l'incertitude-type de $h$, $u(h)$, est estimée par l'expérimentateur;\n",
    "   - l'incertitude-type de $\\Delta t$, $u(\\Delta t)$, est évaluée par une méthode statistique (évaluation de type A).\n",
    "\n",
    "Première cellule pour déclarer les bibliothèques à importer :"
   ]
  },
  {
   "cell_type": "code",
   "execution_count": null,
   "id": "f0586f7c",
   "metadata": {},
   "outputs": [],
   "source": [
    "#Importation des bibliothèques\n",
    "import sys\n",
    "!{sys.executable} -m pip install numpy\n",
    "!{sys.executable} -m pip install matplotlib\n",
    "\n",
    "import numpy as np\n",
    "import matplotlib.pyplot as plt\n",
    "from scipy.optimize import curve_fit\n",
    "\n",
    "# Affichage avec la bibliothèque graphique intégrée à Notebook\n",
    "%matplotlib inline"
   ]
  },
  {
   "cell_type": "markdown",
   "id": "cae1f5a4",
   "metadata": {},
   "source": [
    "Définition de la fonction *Alea* qui renvoie une valeur aléatoire de la variable $L[0]$ d'incertitude-type $L[1]$ :\n"
   ]
  },
  {
   "cell_type": "code",
   "execution_count": 23,
   "id": "14e5db99",
   "metadata": {},
   "outputs": [],
   "source": [
    "def Alea(L):\n",
    "    tirage=np.random.normal()   # Tirage entre -infini et +infini (loi normale)\n",
    "    return L[0]+L[1]*tirage"
   ]
  },
  {
   "cell_type": "markdown",
   "id": "f36a7789",
   "metadata": {},
   "source": [
    "La cellule ci-dessous est à compléter en précisant :\n",
    "- les hauteurs de chutes mesurées\n",
    "- l'évaluation de l'incertitude-type sur la mesure de $h$\n",
    "- les durées moyennes de chute pour chaque hauteur\n",
    "- l'évalution de l'incertitude sur $\\Delta t$ par une méthode statistique"
   ]
  },
  {
   "cell_type": "code",
   "execution_count": null,
   "id": "680ab3fb",
   "metadata": {},
   "outputs": [],
   "source": [
    "h=[...]         #Hauteurs de chute (en m)\n",
    "u_h=...         #Estimation de l'incertitude-type de h (en m)\n",
    "\n",
    "Delta_t=[...]   #Durée moyenne de la chute (en s)\n",
    "u_Delta_t=...   #Incertitude-type de Delta_t (en s) - Evaluation de type A"
   ]
  },
  {
   "cell_type": "code",
   "execution_count": null,
   "id": "1ac53185",
   "metadata": {},
   "outputs": [],
   "source": [
    "Abs=[]\n",
    "for k in range(len(Delta_t)):\n",
    "    Abs.append(0.5*Delta_t[k]**2)\n",
    "\n",
    "#Formule de propagation des incertitudes appliquée à Abs = 0.5*Delta_t^2\n",
    "u_Abs=[]\n",
    "for k in range(len(Delta_t)):\n",
    "    u_Abs.append(Abs[k]*2*u_Delta_t/Delta_t[k])\n",
    "\n",
    "#Préparation des listes avec incertitudes\n",
    "hauteur=[]\n",
    "for k in range(len(h)):\n",
    "    hauteur.append([h[k],u_h])\n",
    "\n",
    "duree=[]\n",
    "for k in range(len(h)):\n",
    "    duree.append([Delta_t[k],u_Delta_t])\n",
    "\n",
    "def lineaire(x,a):\n",
    "    return a*x\n",
    "\n",
    "#Méthode de Monte Carlo pour déterminer le coefficient directeur moyen de la droite de regression linéaire\n",
    "LCoef=[] #Initialisation de la liste vide (coefficient directeur)\n",
    "iteration=100000\n",
    "\n",
    "for i in range(iteration):\n",
    "    Alea_abs=[]\n",
    "    Alea_h=[]\n",
    "    for k in range(len(h)):\n",
    "        Alea_abs.append(0.5*Alea(duree[k])**2)\n",
    "        Alea_h.append(Alea(hauteur[k]))\n",
    "    params, covar = curve_fit(lineaire,Alea_abs,Alea_h)\n",
    "    coef=params[0]\n",
    "    LCoef.append(coef)\n",
    "\n",
    "MoyPente=np.mean(LCoef)\n",
    "uPente=np.std(LCoef,ddof=1) #ddof=1 : déviation standard au sens statistique (divisé par racine carré de n-1)\n",
    "\n",
    "print('Pente :',round(MoyPente,5),'m.s^-2')\n",
    "print('u(Pente) :',round(uPente,5),'m.s^-2')"
   ]
  },
  {
   "cell_type": "markdown",
   "id": "b8e0e1f0",
   "metadata": {},
   "source": [
    "Les instructions qui suivent assurent et paramètrent le tracé du graphique (fenêtre 1) et de l'histogramme (fenêtre 2) :\n",
    "\n",
    "**Avec Anaconda :** une fois complétées, exécuter l'intégralité des cellules : *Cell $\\rightarrow$ Run All*.\n",
    "\n",
    "**En ligne (my Binder):** une fois complétées, exécuter l'intégralité des cellules : *Run $\\rightarrow$ Run all cells*.\n"
   ]
  },
  {
   "cell_type": "code",
   "execution_count": null,
   "id": "2c99c085",
   "metadata": {},
   "outputs": [],
   "source": [
    "fenetre1 = plt.figure('Pour 100000 iterations')\n",
    "graph = fenetre1.add_subplot(111)\n",
    "graph.hist(LCoef, range=(min(LCoef),max(LCoef)), bins = 50, color = 'blue', edgecolor = 'black')\n",
    "plt.xlabel(r'$Pente \\ (m.s^{-2})$')\n",
    "plt.ylabel('Effectif')\n",
    "\n",
    "fenetre2 = plt.figure('Hauteurs de chute')\n",
    "plt.plot(Abs,h,'m+',label=\"Points expérimentaux\")\n",
    "#Tracé des barres d'incertitudes\n",
    "plt.errorbar(Abs,h,xerr=u_Abs,yerr=u_h,fmt='none',ecolor='blue')\n",
    "#Tracé de la droite moyenne\n",
    "X = np.array([min(Abs),max(Abs)])     #Pour tracer une droite, 2 points sont suffisants\n",
    "plt.plot(X,MoyPente*X,'r-',label=\"Droite moyenne\")\n",
    "plt.xlabel(r'$1/2 \\times {\\Delta t}^2 \\ (en \\ s^2)$')\n",
    "plt.ylabel(r'$h \\ (en \\ m)$')\n",
    "plt.axis([min(Abs),max(Abs),min(h),max(h)])\n",
    "plt.title (r'$h = f(1/2 \\times {\\Delta t}^2)$')\n",
    "plt.text(min(Abs)+0.0050,min(h)+0.025,\"Equation de la droite moyenne : h =\"+str(round(MoyPente,4))+r'$\\times 1/2 \\times {\\Delta t}^2$',bbox=dict(facecolor='red', alpha=0.5))\n",
    "plt.legend()\n",
    "plt.grid()\n",
    "\n",
    "plt.show()"
   ]
  }
 ],
 "metadata": {
  "kernelspec": {
   "display_name": "Python 3",
   "language": "python",
   "name": "python3"
  },
  "language_info": {
   "codemirror_mode": {
    "name": "ipython",
    "version": 3
   },
   "file_extension": ".py",
   "mimetype": "text/x-python",
   "name": "python",
   "nbconvert_exporter": "python",
   "pygments_lexer": "ipython3",
   "version": "3.8.8"
  }
 },
 "nbformat": 4,
 "nbformat_minor": 5
}
