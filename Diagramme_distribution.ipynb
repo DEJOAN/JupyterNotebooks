{
 "cells": [
  {
   "cell_type": "markdown",
   "id": "5771b0ac",
   "metadata": {},
   "source": [
    "# Notebook pour le tracé d'un diagramme de distribution\n",
    "### Etude d'un couple acide faible/base faible\n",
    "La valeur numérique du $pKa$ du couple sera à préciser dans la cellule spécifiée."
   ]
  },
  {
   "cell_type": "code",
   "execution_count": null,
   "id": "e566af1c",
   "metadata": {},
   "outputs": [],
   "source": [
    "#Importation des bibliothèques et initialisation des listes\n",
    "import sys\n",
    "!{sys.executable} -m pip install numpy\n",
    "!{sys.executable} -m pip install matplotlib\n",
    "\n",
    "import numpy as np\n",
    "import matplotlib.pylab as plt\n",
    "\n",
    "# Affichage avec la bibliothèque graphique intégrée à Notebook\n",
    "%matplotlib inline"
   ]
  },
  {
   "cell_type": "markdown",
   "id": "c06e20f4",
   "metadata": {},
   "source": [
    "Définition de la fonction *diagramme* assurant le tracé :\n",
    "\n",
    "*Remarque : les paramètres d'affichage du graphique (titre, légende, etc.) peuvent être modifiés.*"
   ]
  },
  {
   "cell_type": "code",
   "execution_count": null,
   "id": "65d250c0",
   "metadata": {},
   "outputs": [],
   "source": [
    "def diagramme(pKa):\n",
    "    pH = np.arange(0,15,0.1)\n",
    "    X = 10**(pH-pKa) # X = Cb/Ca = Pb/Pa\n",
    "    Pb = X*100/(1+X) # % de base faible\n",
    "    Pa = 100-Pb # % d'acide faible\n",
    "    plt.figure (figsize = (10,8))\n",
    "    plt.plot(pH,Pa,\"r+-\",label=\"acide\")\n",
    "    plt.plot(pH,Pb,\"b+-\",label=\"base\")\n",
    "    plt.xlabel(\"pH\")\n",
    "    plt.ylabel(\"%\")\n",
    "    plt.legend()\n",
    "    plt.grid()\n",
    "    plt.title (\"Diagramme de distribution du couple acide ethanoique/ion ethanoate\")\n",
    "    plt.show"
   ]
  },
  {
   "cell_type": "markdown",
   "id": "cae1f5a4",
   "metadata": {},
   "source": [
    "La cellule ci-dessous est à compléter en fonction du couple acide/base étudié :\n",
    "\n",
    "Puis appel de la fonction *diagramme*."
   ]
  },
  {
   "cell_type": "code",
   "execution_count": null,
   "id": "d74a09c3",
   "metadata": {},
   "outputs": [],
   "source": [
    "pKa = ...\n",
    "diagramme(pKa)"
   ]
  },
  {
   "cell_type": "markdown",
   "id": "f4ab14ed",
   "metadata": {},
   "source": [
    "**Avec Anaconda :** une fois complétées, exécuter l'intégralité des cellules : *Cell $\\rightarrow$ Run All*.\n",
    "\n",
    "**En ligne (my Binder):** une fois complétées, exécuter l'intégralité des cellules : *Run $\\rightarrow$ Run all cells*."
   ]
  }
 ],
 "metadata": {
  "kernelspec": {
   "display_name": "Python 3",
   "language": "python",
   "name": "python3"
  },
  "language_info": {
   "codemirror_mode": {
    "name": "ipython",
    "version": 3
   },
   "file_extension": ".py",
   "mimetype": "text/x-python",
   "name": "python",
   "nbconvert_exporter": "python",
   "pygments_lexer": "ipython3",
   "version": "3.8.8"
  }
 },
 "nbformat": 4,
 "nbformat_minor": 5
}
