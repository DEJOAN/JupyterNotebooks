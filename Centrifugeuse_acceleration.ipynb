{
 "cells": [
  {
   "cell_type": "markdown",
   "id": "5771b0ac",
   "metadata": {},
   "source": [
    "# Notebook pour le tracé de positions, de vecteurs vitesse et de vecteurs accélération\n",
    "### Système animé d'un mouvement circulaire accéléré\n",
    "Ce programme permet d'étudier le mouvement de rotation de la centrifugeuse de la cité des étoiles en Russie\n",
    "dont le bras rotatif possède un rayon $R$ de longueur $7\\ m$.\n",
    "\n",
    "Ses coordonnées ont été enregistrées toutes les $\\Delta t = 200\\ ms$.\n",
    "\n",
    "La norme de la vitesse de la cabine augmente durant un demi-tour : $v(t) = k\\times t$ avec $k = 6,26\\ m.s^{-2}$. Puis celle-ci est constante de valeur $v_0 = 16,6\\ m.s^{-1}$.\n",
    "\n",
    "Première cellule permettant de déclarer les bibliothèques à importer :"
   ]
  },
  {
   "cell_type": "code",
   "execution_count": null,
   "id": "e566af1c",
   "metadata": {},
   "outputs": [],
   "source": [
    "#Importation des bibliothèques et initialisation des listes\n",
    "import sys\n",
    "!{sys.executable} -m pip install numpy\n",
    "!{sys.executable} -m pip install matplotlib\n",
    "\n",
    "import numpy as np\n",
    "import matplotlib.pylab as plt\n",
    "import sys\n",
    "\n",
    "# Affichage avec la bibliothèque graphique intégrée à Notebook\n",
    "%matplotlib inline\n",
    "\n",
    "#Initialisation du pointage\n",
    "table = []\n",
    "#Initialisation du temps en seconde\n",
    "temps = []\n",
    "#Initialisation des abscisses\n",
    "x = []\n",
    "#Initialisation des ordonnées\n",
    "y = []"
   ]
  },
  {
   "cell_type": "markdown",
   "id": "3ea4821b",
   "metadata": {},
   "source": [
    "Importation des données sauvegardées dans un fichier au format *.txt*.\n",
    "\n",
    "**Avec Anaconda :** Veillez à ce que le fichier *.txt* soit enregistré dans le même dossier que le Notebook.\n",
    "\n",
    "**En ligne (my Binder):** Dans le répertoire de travail, contenant le Notebook, télécharger le fichier *.txt* en sélectionnant l'onglet *Upload Files*."
   ]
  },
  {
   "cell_type": "code",
   "execution_count": null,
   "id": "0cd6b810",
   "metadata": {},
   "outputs": [],
   "source": [
    "#Importation des données------------------------------------------------------\n",
    "data = np.loadtxt(\"donnees.txt\", skiprows=1) #skiprows : saute la 1ère ligne\n",
    "table = data[:,:]\n",
    "\n",
    "#Taille du tableau importé\n",
    "N = len(table)\n",
    "M = len(table[0])\n",
    "\n",
    "#Initialisation des vitesses\n",
    "vx = np.zeros(N)       #Vitesse calculée selon l'axe des abscisses, np.zeros(N-1) : renvoie un tableau à 1D de N-1 zéros.\n",
    "vy = np.zeros(N)       #Vitesse calculée selon l'axe des ordonnées\n",
    "\n",
    "#Initialisation des accélérations\n",
    "ax = np.zeros(N)       #Accélération calculée selon l'axe des abscisses\n",
    "ay = np.zeros(N)       #Accélération calculée selon l'axe des ordonnées\n",
    "\n",
    "#Vérification de la structure de ce tableau (3 colonnes ont été exportées : temps, x et y)\n",
    "if M!=3 :\n",
    "    print(\"Problème dans la réalisation de votre pointage. Reprenez le travail et exportez uniquement deux courbes (Mouvement_X et Mouvement_Y)\")\n",
    "    sys.exit() #Moyen rapide de quitter un programme en cas d'erreur\n",
    "\n",
    "#Importation des coordonnées x, y et t\n",
    "for i in range(0,N):\n",
    "    #Génération des listes\n",
    "    temps.append(float(table[i][0]))\n",
    "    x.append(float(table[i][1]))\n",
    "    y.append(float(table[i][2]))"
   ]
  },
  {
   "cell_type": "markdown",
   "id": "c06e20f4",
   "metadata": {},
   "source": [
    "Définition de la fonction assurant le tracé des vecteurs vitesse et accélération :"
   ]
  },
  {
   "cell_type": "code",
   "execution_count": null,
   "id": "65d250c0",
   "metadata": {},
   "outputs": [],
   "source": [
    "def trace_vect(x,y,Vectx,Vecty,titre,couleur,position,taille):\n",
    "    q = plt.quiver(x,y,Vectx,Vecty,color = couleur,width=0.004)\n",
    "    plt.quiverkey(q,X=0.5,Y=position,U=taille,label=titre,color=couleur)"
   ]
  },
  {
   "cell_type": "markdown",
   "id": "cae1f5a4",
   "metadata": {},
   "source": [
    "La cellule ci-dessous est à compléter :\n",
    "- indiquer la valeur numérique du pas de temps $\\Delta t$ en $s$;\n",
    "- préciser les formules permettant le calcul des coordonnées $v_x$, $v_y$, $a_x$ et $a_y$ des vecteurs vitesse et accélération."
   ]
  },
  {
   "cell_type": "code",
   "execution_count": null,
   "id": "d74a09c3",
   "metadata": {},
   "outputs": [],
   "source": [
    "#Initialisation des constantes du problème\n",
    "Dt = ...      #Pas de temps en s\n",
    "\n",
    "#Calcul des coordonnées du vecteur vitesse\n",
    "for i in range(0,N-1):\n",
    "    vx[i] = ...\n",
    "    vy[i] = ...\n",
    "\n",
    "#Calcul des coordonnées du vecteur accélération\n",
    "for i in range(0,N-2):\n",
    "    ax[i+1] = ...\n",
    "    ay[i+1] = ..."
   ]
  },
  {
   "cell_type": "markdown",
   "id": "b8e0e1f0",
   "metadata": {},
   "source": [
    "Les instructions qui suivent paramètrent l'affichage du graphique :"
   ]
  },
  {
   "cell_type": "code",
   "execution_count": null,
   "id": "ee27910a",
   "metadata": {},
   "outputs": [],
   "source": [
    "#Imposer la taille de la zone de travail\n",
    "plt.figure(1,figsize=(6,6))\n",
    "\n",
    "#Tracer les vecteurs vitesses calculées\n",
    "trace_vect(x,y,vx,vy,\"Vecteur vitesse\",'g',0.4,15)\n",
    "#Tracer les vecteurs accélérations calculées\n",
    "trace_vect(x,y,ax,ay,\"Vecteur accélération\",'r',0.3,30)\n",
    "\n",
    "#Tracer les positions\n",
    "plt.plot(x,y,\"k.\",label=\"Positions de la cabine\")\n",
    "\n",
    "#Tracer le centre de rotation\n",
    "plt.plot(0,0,\"bo\")\n",
    "\n",
    "#Tracer les rayons\n",
    "for i in range(0,N):\n",
    "    plt.plot([0,x[i]],[0,y[i]],'k--',lw=0.2)\n",
    "\n",
    "#Position du bloc légende\n",
    "plt.legend(loc='upper right')\n",
    "\n",
    "#Etiquettes des axes\n",
    "plt.xlabel(r'$ x $'+'(m)')\n",
    "plt.ylabel(r'$ y $'+'(m)')\n",
    "\n",
    "#Titre du graphique\n",
    "plt.title('Positions, vitesse et accélération de la cabine')\n",
    "plt.show()"
   ]
  },
  {
   "cell_type": "markdown",
   "id": "f4ab14ed",
   "metadata": {},
   "source": [
    "**Avec Anaconda :** une fois complétées, exécuter l'intégralité des cellules : *Cell $\\rightarrow$ Run All*.\n",
    "\n",
    "**En ligne (my Binder):** une fois complétées, exécuter l'intégralité des cellules : *Run $\\rightarrow$ Run all cells*."
   ]
  }
 ],
 "metadata": {
  "kernelspec": {
   "display_name": "Python 3",
   "language": "python",
   "name": "python3"
  },
  "language_info": {
   "codemirror_mode": {
    "name": "ipython",
    "version": 3
   },
   "file_extension": ".py",
   "mimetype": "text/x-python",
   "name": "python",
   "nbconvert_exporter": "python",
   "pygments_lexer": "ipython3",
   "version": "3.8.8"
  }
 },
 "nbformat": 4,
 "nbformat_minor": 5
}
