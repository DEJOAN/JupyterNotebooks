{
 "cells": [
  {
   "cell_type": "markdown",
   "id": "b8d0aa71",
   "metadata": {},
   "source": [
    "# Notebook permettant de tester la 3ème loi de Kepler\n",
    "\n",
    "*Programme Python écrit dans le cadre du GRAC terminale Spécialité PC dans l'académie de la Guyane en avril 2020.*\n",
    "\n",
    "Première cellule pour déclarer les bibliothèques à importer :"
   ]
  },
  {
   "cell_type": "code",
   "execution_count": null,
   "id": "e566af1c",
   "metadata": {},
   "outputs": [],
   "source": [
    "import sys\n",
    "!{sys.executable} -m pip install matplotlib\n",
    "!{sys.executable} -m pip install numpy\n",
    "\n",
    "import numpy as np\n",
    "import matplotlib.pyplot as plt\n",
    "import scipy.stats as sc\n",
    "\n",
    "# Affichage avec la bibliothèque graphique intégrée à Notebook\n",
    "%matplotlib inline"
   ]
  },
  {
   "cell_type": "markdown",
   "id": "d22b6ed4",
   "metadata": {},
   "source": [
    "Affichage des **données utiles** pour tester le programme :"
   ]
  },
  {
   "cell_type": "code",
   "execution_count": null,
   "id": "5849f9dc",
   "metadata": {},
   "outputs": [],
   "source": [
    "print(\"Vous trouverez ci-dessous les rayons et les periodes des orbites de Venus, la Terre, Mars et de Jupiter\")\n",
    "print(\"Venus : rayon orbite = 108 millions de km ; periode de revolution = 225 j \")\n",
    "print(\"Terre : rayon orbite = 150 millions de km ; periode de revolution = 365 j \")\n",
    "print(\"Mars : rayon orbite = 228 millions de km ; periode de revolution = 687 j \")\n",
    "print(\"Jupiter : rayon orbite = 778 millions de km ; periode de revolution = 4333 j \")"
   ]
  },
  {
   "cell_type": "markdown",
   "id": "cae1f5a4",
   "metadata": {},
   "source": [
    "Saisir lorsque cela est demandé, les **rayons** ou **des demi-grand axes des orbites** ainsi que les **periodes des planetes** :\n",
    "\n",
    "*S'aider des valeurs référencées dans la cellule précédente*"
   ]
  },
  {
   "cell_type": "code",
   "execution_count": null,
   "id": "14e5db99",
   "metadata": {},
   "outputs": [],
   "source": [
    "a1 = float(input(\"Entrer le demi-grand axe de la 1ère planète en millions de km \"))\n",
    "print (\"Le rayon est\",a1,\"millions de km.\")\n",
    "T1 = float(input(\"Entrer la période de la 1ère planète en années \"))\n",
    "print (\"La periode est\",T1,\"années.\")\n",
    "\n",
    "a2 = float(input(\"Entrer le demi-grand axe de la 2ème planète en millions de km \"))\n",
    "print (\"Le rayon est\",a2,\"millions de km.\")\n",
    "T2 = float(input(\"Entrer la période de la 2eme planète en années \"))\n",
    "print (\"La periode est\",T2,\"années.\")\n",
    "\n",
    "a3 = float(input(\"Entrer le demi-grand axe de la 3ème planète en millions de km \"))\n",
    "print (\"Le rayon est\",a3,\"millions de km.\")\n",
    "T3 = float(input(\"Entrer la période de la 3eme planète en années \"))\n",
    "print (\"La periode est\",T3,\"années.\")\n",
    "\n",
    "a4 = float(input(\"Entrer le demi-grand axe de la 4ème planète en millions de km \"))\n",
    "print (\"Le rayon est\",a4,\"millions de km.\")\n",
    "T4 = float(input(\"Entrer la période de la 4ème planète en années \"))\n",
    "print (\"La periode est\",T4,\"années.\")"
   ]
  },
  {
   "cell_type": "markdown",
   "id": "7727d140",
   "metadata": {},
   "source": [
    "Création des listes pour calcul et affichage :"
   ]
  },
  {
   "cell_type": "code",
   "execution_count": null,
   "id": "f2632102",
   "metadata": {},
   "outputs": [],
   "source": [
    "a = np.array([a1, a2, a3, a4])\n",
    "T = np.array([T1, T2, T3, T4])\n",
    "G = 6.67e-11\n",
    "#Calcul des constantes a^3 et T^2\n",
    "acube = (a*1e9)**3\n",
    "Tcarre = (T*24*3600)**2"
   ]
  },
  {
   "cell_type": "markdown",
   "id": "4964f904",
   "metadata": {},
   "source": [
    "Les commandent qui suivent paramètrent le tracé de la **doite modélisée** à partir de la **3ème loi de Kepler** : $\\displaystyle{\\frac{T^2}{a^3} = cste}$.\n",
    "\n",
    "La **masse du Soleil** est ainsi calculée et affichée."
   ]
  },
  {
   "cell_type": "code",
   "execution_count": null,
   "id": "28179f6e",
   "metadata": {},
   "outputs": [],
   "source": [
    "#Affichage des points de mesure et regression lineraire\n",
    "plt.plot(acube, Tcarre, \"+\", color = \"red\")\n",
    "plt.grid()\n",
    "droite = sc.linregress(acube, Tcarre)\n",
    "coeff = droite.slope\n",
    "print(\"Coeff directeur : \",\"%0.3e\" % coeff)\n",
    "oorigine=droite.intercept\n",
    "print(\"Ordonnee e l'origine : \",\"%0.3e\" % oorigine)\n",
    "\n",
    "#Etiquettes des axes\n",
    "plt.xlabel('$a^3 (m^3)$')\n",
    "plt.ylabel('$T^2 (s^2)$')\n",
    "\n",
    "#Calcul de la masse du corps attracteur\n",
    "M = (4*(np.pi)**2)/(G*coeff)\n",
    "\n",
    "#Affichage de la droite modelisee\n",
    "print (\"La masse du Soleil est \",\"%0.3e\" % M, \"kg\")\n",
    "Tcarremodelise = coeff*acube+oorigine\n",
    "plt.plot(acube, Tcarremodelise, color = \"blue\")\n",
    "plt.title('$T^2 = f(a^3)$')\n",
    "plt.show()"
   ]
  },
  {
   "cell_type": "markdown",
   "id": "b8e0e1f0",
   "metadata": {},
   "source": [
    "**Avec Anaconda :** une fois le script complété, exécuter l'intégralité des cellules : *Cell $\\rightarrow$ Run All*.\n",
    "\n",
    "**En ligne (my Binder):** une fois le script complété, exécuter l'intégralité des cellules : *Run $\\rightarrow$ Run all cells*."
   ]
  }
 ],
 "metadata": {
  "kernelspec": {
   "display_name": "Python 3",
   "language": "python",
   "name": "python3"
  },
  "language_info": {
   "codemirror_mode": {
    "name": "ipython",
    "version": 3
   },
   "file_extension": ".py",
   "mimetype": "text/x-python",
   "name": "python",
   "nbconvert_exporter": "python",
   "pygments_lexer": "ipython3",
   "version": "3.8.8"
  }
 },
 "nbformat": 4,
 "nbformat_minor": 5
}
