{
 "cells": [
  {
   "cell_type": "markdown",
   "id": "b8d0aa71",
   "metadata": {},
   "source": [
    "# Notebook : *Désintégration radiocative*\n",
    "### Simuler une désintégration aléatoire à partir du tirage d'un nombre de dés donnés\n",
    "Première cellule pour déclarer les bibliothèques à importer :"
   ]
  },
  {
   "cell_type": "code",
   "execution_count": null,
   "id": "e566af1c",
   "metadata": {},
   "outputs": [],
   "source": [
    "#Importation des bibliothèques\n",
    "import sys\n",
    "!{sys.executable} -m pip install matplotlib\n",
    "\n",
    "import random #Librairie qui permet d'utiliser la fonction randint qui tire un entier au hasard compris entre deux bornes\n",
    "import matplotlib.pyplot as plt\n",
    "\n",
    "# Affichage avec la bibliothèque graphique intégrée à Notebook\n",
    "%matplotlib inline"
   ]
  },
  {
   "cell_type": "markdown",
   "id": "d22b6ed4",
   "metadata": {},
   "source": [
    "Définition de la fonction qui permet d'afficher le nombre de dés restant en fonction du nombre de lancés :"
   ]
  },
  {
   "cell_type": "code",
   "execution_count": null,
   "id": "5849f9dc",
   "metadata": {},
   "outputs": [],
   "source": [
    "def affichageCourbe(historiqueNbDes) :\n",
    "    plt.plot([float(y) for y in historiqueNbDes])\n",
    "    plt.grid(True)                          #Affichage la grille\n",
    "    plt.title(\"Décroissance radioactive\")   #Titre de la courbe\n",
    "    plt.xlabel(\"Temps\")                     #Titre de l'axe des abscisses\n",
    "    plt.ylabel(\"Nombre de noyaux\")          #titre de l'axe des ordonnées\n",
    "    plt.show()"
   ]
  },
  {
   "cell_type": "markdown",
   "id": "cae1f5a4",
   "metadata": {},
   "source": [
    "Dans la cellule ci-dessous, vous devez préciser :\n",
    "- le nombre de dés à lancer : *nbDesDepart*\n",
    "- le nombre de faces de chaque déla valeur : *nbFaces*\n",
    "- la valeur de la face du dé qui le désintègre : *DESINTEGRE*"
   ]
  },
  {
   "cell_type": "code",
   "execution_count": null,
   "id": "14e5db99",
   "metadata": {},
   "outputs": [],
   "source": [
    "nbDesDepart = ...  \n",
    "nbFaces = ...     \n",
    "DESINTEGRE = ..."
   ]
  },
  {
   "cell_type": "markdown",
   "id": "dd102fc8",
   "metadata": {},
   "source": [
    "Définition de la Fonction qui tire un nombre de dés quelconque et détermine combien il en reste qui ne se sont pas désintégrés (ont fait un \"1\")\n",
    "- Entrée : *nombreDesInitial* : entier représentant le nombre de dés à tirer\n",
    "- Sortie : entier représentant le nombre de dés qui n'ont pas donné $1$"
   ]
  },
  {
   "cell_type": "code",
   "execution_count": null,
   "id": "f2632102",
   "metadata": {},
   "outputs": [],
   "source": [
    "def tireLesDes(nombreDesInitial) :\n",
    "    nbDes = nombreDesInitial   #Au début aucun dé n'est désintégré\n",
    "    for i in range(nombreDesInitial) :\n",
    "        valeurDe = random.randint(1, nbFaces)\n",
    "        if valeurDe == DESINTEGRE :\n",
    "            nbDes = nbDes - 1\n",
    "    return nbDes"
   ]
  },
  {
   "cell_type": "markdown",
   "id": "4964f904",
   "metadata": {},
   "source": [
    "La cellule ci-dessous contient le programme principal (boucle conditionnelle et appel des deux fonctions définies précédemment) :"
   ]
  },
  {
   "cell_type": "code",
   "execution_count": null,
   "id": "28179f6e",
   "metadata": {},
   "outputs": [],
   "source": [
    "nbDes = nbDesDepart         #Au départ tous les dés sont \"vivants\"\n",
    "historiqueNbDes = [nbDes]   #Liste contenant le nombre de dés restants après chaque étape\n",
    "\n",
    "while nbDes > 0 :                   #Tant qu'il reste des dés, on effectue le tirage\n",
    "    nbDes = tireLesDes(nbDes)       #On tire les dés et détermine combien il en reste\n",
    "    historiqueNbDes.append(nbDes)   #On rajoute le nombre de dés restant à l'historique\n",
    "\n",
    "#C'est fini, il ne reste plus de dés\n",
    "affichageCourbe(historiqueNbDes)    #On affiche la courbe"
   ]
  },
  {
   "cell_type": "markdown",
   "id": "b8e0e1f0",
   "metadata": {},
   "source": [
    "**Avec Anaconda :** une fois le script complété, exécuter l'intégralité des cellules : *Cell $\\rightarrow$ Run All*.\n",
    "\n",
    "**En ligne (my Binder):** une fois le script complété, exécuter l'intégralité des cellules : *Run $\\rightarrow$ Run all cells*."
   ]
  }
 ],
 "metadata": {
  "kernelspec": {
   "display_name": "Python 3",
   "language": "python",
   "name": "python3"
  },
  "language_info": {
   "codemirror_mode": {
    "name": "ipython",
    "version": 3
   },
   "file_extension": ".py",
   "mimetype": "text/x-python",
   "name": "python",
   "nbconvert_exporter": "python",
   "pygments_lexer": "ipython3",
   "version": "3.8.8"
  }
 },
 "nbformat": 4,
 "nbformat_minor": 5
}
