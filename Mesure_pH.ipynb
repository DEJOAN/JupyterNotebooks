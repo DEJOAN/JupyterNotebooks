{
 "cells": [
  {
   "cell_type": "markdown",
   "id": "b8d0aa71",
   "metadata": {},
   "source": [
    "# Notebook pour le tracé de l'évolution du pH en fonction de la concentration\n",
    "### Mesure de pH et incertitudes-types composées\n",
    "\n",
    "*Capacité numérique : Simuler, à l’aide d’un langage de programmation, un processus aléatoire illustrant la détermination de la valeur d’une grandeur avec incertitudes-types composées.*\n",
    "\n",
    "*Auteur : Marieke Bonnaffe-Moity*\n",
    "\n",
    "Première cellule pour déclarer les bibliothèques à importer :"
   ]
  },
  {
   "cell_type": "code",
   "execution_count": null,
   "id": "f0586f7c",
   "metadata": {},
   "outputs": [],
   "source": [
    "#Importation des bibliothèques\n",
    "import sys\n",
    "!{sys.executable} -m pip install numpy\n",
    "!{sys.executable} -m pip install matplotlib\n",
    "\n",
    "import numpy as np\n",
    "import matplotlib.pyplot as plt\n",
    "\n",
    "# Affichage avec la bibliothèque graphique intégrée à Notebook\n",
    "%matplotlib inline"
   ]
  },
  {
   "cell_type": "markdown",
   "id": "cae1f5a4",
   "metadata": {},
   "source": [
    "Pour la **Partie 2** du TP, compléter **uniquement** la cellule ci-dessous :\n",
    "- indiquer les valeurs de concentration mesurées;\n",
    "- indiquer les valeurs de pH mesurées.\n",
    "\n",
    "*Remarque sur la syntaxe : les virgules des données sont remplacées par des points, les valeurs de la liste sont séparées par des « , ».*\n"
   ]
  },
  {
   "cell_type": "code",
   "execution_count": 23,
   "id": "14e5db99",
   "metadata": {},
   "outputs": [],
   "source": [
    "#Valeurs mesurées\n",
    "Concentration = [...] \n",
    "pHexp=[...] \n",
    "\n",
    "#Tracé du modèle à partir de la relation du pH\n",
    "cth=np.arange(0.00009,0.15,0.0001) #Genere une liste de valeurs de concentrations\n",
    "pHth=-np.log10(cth) #Calcul le pH théorie relatif aux concentrations"
   ]
  },
  {
   "cell_type": "markdown",
   "id": "b8e0e1f0",
   "metadata": {},
   "source": [
    "Les instructions qui suivent assurent et paramètrent le tracé des courbes :\n",
    "\n",
    "**Avec Anaconda :** une fois complétées, exécuter l'intégralité des cellules : *Cell $\\rightarrow$ Run All*.\n",
    "\n",
    "**En ligne (my Binder):** une fois complétées, exécuter l'intégralité des cellules : *Run $\\rightarrow$ Run all cells*.\n"
   ]
  },
  {
   "cell_type": "code",
   "execution_count": null,
   "id": "2c99c085",
   "metadata": {},
   "outputs": [],
   "source": [
    "#Tracé de l'évolution du pH en fonction de la concentration\n",
    "plt.plot(cth,pHth,color = 'red', label = 'modelisation') #Tracé du modèle théorique\n",
    "plt.scatter(x=Concentration,y=pHexp,marker= '+', label='Mesures expérimentales') #Tracé des points correspondants aux mesures expérimentales\n",
    "plt.xlabel('Concentration en mol/L')\n",
    "plt.ylabel('pH')\n",
    "plt.title('Evolution du pH en fonction de la concentration')\n",
    "plt.legend()\n",
    "plt.show()"
   ]
  },
  {
   "cell_type": "markdown",
   "id": "d00dbfbc",
   "metadata": {},
   "source": [
    "**Incertitudes de mesure**\n",
    "\n",
    "Cellule à compléter pour la **Partie 3** du TP :\n",
    "- Indiquer les valeurs des incertitudes-types de chaque concentration en respectant l'ordre de la liste *Concentration*.\n",
    "- Indiquer la valeur de l'incertitude-type sur la mesure du $pH$ (donnée par le constructeur).\n",
    "\n",
    "*Attention! Une fois complété, dégriser le script (effacer les ''')*."
   ]
  },
  {
   "cell_type": "code",
   "execution_count": null,
   "id": "c927596f",
   "metadata": {},
   "outputs": [],
   "source": [
    "#Tracé des barres d'incertitudes (les incertitudes sur la concentration sont évaluées à l'aide d'un autre programme \"pH_incertitudes\")\n",
    "'''\n",
    "plt.plot(cth,pHth,color = 'red', label = 'modelisation') #Tracé du modèle théorique\n",
    "plt.scatter(x=Concentration,y=pHexp,marker= '+', label='Mesures expérimentales') #Tracé des points correspondants aux mesures expérimentales\n",
    "plt.xlabel('Concentration en mol/L')\n",
    "plt.ylabel('pH')\n",
    "plt.title('Evolution du pH en fonction de la concentration')\n",
    "plt.legend()\n",
    "\n",
    "incertitudeC=[...] #A compléter\n",
    "incertitudepH=...  #A compléter\n",
    "\n",
    "plt.errorbar(Concentration,pHexp,xerr=incertitudeC,yerr=incertitudepH,fmt='none',ecolor='orange')\n",
    "plt.show()\n",
    "'''"
   ]
  }
 ],
 "metadata": {
  "kernelspec": {
   "display_name": "Python 3",
   "language": "python",
   "name": "python3"
  },
  "language_info": {
   "codemirror_mode": {
    "name": "ipython",
    "version": 3
   },
   "file_extension": ".py",
   "mimetype": "text/x-python",
   "name": "python",
   "nbconvert_exporter": "python",
   "pygments_lexer": "ipython3",
   "version": "3.8.8"
  }
 },
 "nbformat": 4,
 "nbformat_minor": 5
}
