{
 "cells": [
  {
   "cell_type": "markdown",
   "id": "5771b0ac",
   "metadata": {},
   "source": [
    "# Notebook pour le tracé d'un histogramme associé à une série de mesures\n",
    "### Mesure de la capacité d'un condensateur\n",
    "*@author: ddhdx*\n",
    "\n",
    "Tracé de l'histogramme des valeurs mesurées de capacité d'un condensateur.\n",
    "Calcul et affichage de la valeur moyenne et de l'incertitude-type.\n",
    "\n",
    "Première cellule permettant de déclarer les bibliothèques à importer :"
   ]
  },
  {
   "cell_type": "code",
   "execution_count": null,
   "id": "e566af1c",
   "metadata": {},
   "outputs": [],
   "source": [
    "#Importation des bibliothèques et initialisation des listes\n",
    "import sys\n",
    "!{sys.executable} -m pip install numpy\n",
    "!{sys.executable} -m pip install matplotlib\n",
    "\n",
    "import numpy as np\n",
    "import matplotlib.pylab as plt\n",
    "from math import sqrt\n",
    "import sys"
   ]
  },
  {
   "cell_type": "markdown",
   "id": "3ea4821b",
   "metadata": {},
   "source": [
    "Importation des données sauvegardées dans un fichier au format *.txt*.\n",
    "\n",
    "**Avec Anaconda :** Veillez à ce que le fichier *.txt* soit enregistré dans le même dossier que le Notebook.\n",
    "\n",
    "**En ligne (my Binder):** Dans le répertoire de travail, contenant le Notebook, télécharger le fichier *.txt* via l'onglet *Upload Files*."
   ]
  },
  {
   "cell_type": "code",
   "execution_count": null,
   "id": "0cd6b810",
   "metadata": {},
   "outputs": [],
   "source": [
    "#Importation des données------------------------------------------------------\n",
    "data = np.loadtxt(\"donnees.txt\", skiprows=1)"
   ]
  },
  {
   "cell_type": "markdown",
   "id": "b05b5bc3",
   "metadata": {},
   "source": [
    "La cellule qui suit permet le calcul et l'affichage de la valeur moyenne de la capacité du condensateur ainsi que de l'incertitude-type de la mesure.\n",
    "\n",
    "*Remarque : le nombre de décimales à afficher est paramétré par la fonction round()*"
   ]
  },
  {
   "cell_type": "code",
   "execution_count": null,
   "id": "512c6ddf",
   "metadata": {},
   "outputs": [],
   "source": [
    "C = data[:,1] #On met dans C toutes les lignes (:) de la 2eme colonne\n",
    "C_mean = C.mean() #On utilise la méthode .mean() de la bibliothèque numpy\n",
    "sigma_C = C.std() #On utilise la méthode .std() de la bibliothèque numpy\n",
    "Delta_C = sigma_C / sqrt(len(C))\n",
    "\n",
    "print('Résultat de la mesure de C :', round(C_mean,4),'uF')\n",
    "print('Incertitude-type sur la mesure de C :', round(Delta_C,4),'uF')"
   ]
  },
  {
   "cell_type": "markdown",
   "id": "c06e20f4",
   "metadata": {},
   "source": [
    "Instructions pour paramétrer le tracé de l'histogramme (les arguments des différentes fonctions peuvent être modifiées) :"
   ]
  },
  {
   "cell_type": "code",
   "execution_count": null,
   "id": "65d250c0",
   "metadata": {},
   "outputs": [],
   "source": [
    "legende = [\"N = \",str(len(C))]\n",
    "plt.hist(C, bins = 30, range = (C.min(),C.max()), edgecolor = 'blue', label = \"\".join(legende))\n",
    "plt.xlabel(\"C en uF\")\n",
    "plt.ylabel(\"Nb de mesures\")\n",
    "plt.legend()\n",
    "plt.show()"
   ]
  },
  {
   "cell_type": "markdown",
   "id": "f4ab14ed",
   "metadata": {},
   "source": [
    "**Avec Anaconda :** une fois complétées, exécuter l'intégralité des cellules : *Cell $\\rightarrow$ Run All*.\n",
    "\n",
    "**En ligne (my Binder):** une fois complétées, exécuter l'intégralité des cellules : *Run $\\rightarrow$ Run all cells*."
   ]
  }
 ],
 "metadata": {
  "kernelspec": {
   "display_name": "Python 3",
   "language": "python",
   "name": "python3"
  },
  "language_info": {
   "codemirror_mode": {
    "name": "ipython",
    "version": 3
   },
   "file_extension": ".py",
   "mimetype": "text/x-python",
   "name": "python",
   "nbconvert_exporter": "python",
   "pygments_lexer": "ipython3",
   "version": "3.8.8"
  }
 },
 "nbformat": 4,
 "nbformat_minor": 5
}
