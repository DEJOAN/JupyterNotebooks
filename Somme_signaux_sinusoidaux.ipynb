{
 "cells": [
  {
   "cell_type": "markdown",
   "id": "b8d0aa71",
   "metadata": {},
   "source": [
    "# Notebook pour le tracé de signaux sinusoïdaux \n",
    "### Tracer et additionner deux signaux sinusoïdaux synchrones (de même période)\n",
    "Dans un premier temps, vous devez préciser :\n",
    "- l'amplitude de chacun des deux signaux (sans unité) \n",
    "- leur période, identique (en s)\n",
    "- la phase à l'origine de chacun des deux signaux (en rad) "
   ]
  },
  {
   "cell_type": "code",
   "execution_count": null,
   "id": "e566af1c",
   "metadata": {},
   "outputs": [],
   "source": [
    "#Importation des bibliothèques\n",
    "import numpy as np\n",
    "import matplotlib.pyplot as plt\n",
    "from math import pi\n",
    "\n",
    "#Définition de : l'amplitude, la période et du déphasage des 2 signaux\n",
    "A1 = ...        #Amplitude du signal 1 (sans unité)\n",
    "A2 = ...        #Amplitude du signal 2 (sans unité)\n",
    "T = ...         #Période (en s), identique pour les deux signaux \"synchrones\"\n",
    "phi1 = ...      #Phase à l'origine du signal 1\n",
    "phi2 = ...      #Phase à l'origine du signal 2"
   ]
  },
  {
   "cell_type": "markdown",
   "id": "adb7d7f7",
   "metadata": {},
   "source": [
    "Donner l'expression littérale des 3 signaux, *en respectant la notation des paramètres* indiqués dans la cellule précédente :"
   ]
  },
  {
   "cell_type": "code",
   "execution_count": null,
   "id": "1d38e85f",
   "metadata": {},
   "outputs": [],
   "source": [
    "#Définition du tableau des dates (en s)\n",
    "t = np.linspace(0.,20.,2000)\n",
    "\n",
    "#Définition des courbes\n",
    "s1 = ...\n",
    "s2 = ...\n",
    "s3 = ..."
   ]
  },
  {
   "cell_type": "markdown",
   "id": "b8e0e1f0",
   "metadata": {},
   "source": [
    "Les instructions qui suivent assurent et paramètrent le tracé des courbes :"
   ]
  },
  {
   "cell_type": "code",
   "execution_count": null,
   "id": "06f2ed3f",
   "metadata": {},
   "outputs": [],
   "source": [
    "#Tracé des courbes\n",
    "plt.axis([0,20,-10,10])\n",
    "plt.xlabel('Temps en s')\n",
    "plt.ylabel('Amplitude')\n",
    "plt.title('Somme de deux signaux sinusoïdaux périodiques synchrones')\n",
    "plt.grid()\n",
    "c1 = plt.plot(t, s1, '-c', label = r'$s_1$')\n",
    "c2 = plt.plot(t, s2, '-m', label = r'$s_2$')\n",
    "c3 = plt.plot(t, s3, '-k', label = r'$s_3$')\n",
    "plt.legend()\n",
    "\n",
    "plt.show()"
   ]
  },
  {
   "cell_type": "markdown",
   "id": "385aa286",
   "metadata": {},
   "source": [
    "Une fois complétées, exécuter l'intégralité des cellules : *Cell $\\rightarrow$ Run All*"
   ]
  }
 ],
 "metadata": {
  "kernelspec": {
   "display_name": "Python 3",
   "language": "python",
   "name": "python3"
  },
  "language_info": {
   "codemirror_mode": {
    "name": "ipython",
    "version": 3
   },
   "file_extension": ".py",
   "mimetype": "text/x-python",
   "name": "python",
   "nbconvert_exporter": "python",
   "pygments_lexer": "ipython3",
   "version": "3.8.8"
  }
 },
 "nbformat": 4,
 "nbformat_minor": 5
}
