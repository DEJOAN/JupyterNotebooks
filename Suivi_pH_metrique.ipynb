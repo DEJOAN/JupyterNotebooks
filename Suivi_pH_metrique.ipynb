{
 "cells": [
  {
   "cell_type": "markdown",
   "id": "5771b0ac",
   "metadata": {},
   "source": [
    "# Suivi pH-métrique d'un titrage\n",
    "\n",
    "- Tracé de l'évolution du pH de la solution en fonction du volume $V_b$ de solution titrante versée\n",
    "- Tracé de la courbe dérivée\n",
    "- Tracé de l'évolution des quantités de matière dans le vase réactionnel\n",
    "\n",
    "*coding: utf-8*\n",
    "\n",
    "Première cellule permettant de déclarer les bibliothèques à importer :"
   ]
  },
  {
   "cell_type": "code",
   "execution_count": null,
   "id": "afc4d33e",
   "metadata": {},
   "outputs": [],
   "source": [
    "#Importation des bibliothèques et initialisation des listes\n",
    "import sys\n",
    "!{sys.executable} -m pip install numpy\n",
    "!{sys.executable} -m pip install matplotlib\n",
    "\n",
    "import matplotlib.pyplot as plt\n",
    "import numpy as np\n",
    "from scipy import stats\n",
    "\n",
    "# Affichage avec la bibliothèque graphique intégrée à Notebook\n",
    "%matplotlib inline"
   ]
  },
  {
   "cell_type": "markdown",
   "id": "539c9f72",
   "metadata": {},
   "source": [
    "Partie du programme à compléter avec :\n",
    "- les valeurs de volume de solution titrante versée $V_b$;\n",
    "- la valeur du $pH$ correspondant.\n",
    "\n",
    "*Attention! En syntaxe Python, la \",\" est notée \".\" et deux valeurs consécutives sont séparées par une \",\".*"
   ]
  },
  {
   "cell_type": "code",
   "execution_count": 42,
   "id": "d750950d",
   "metadata": {},
   "outputs": [],
   "source": [
    "Vb = np.array([...])\n",
    "pH = np.array([...])"
   ]
  },
  {
   "cell_type": "markdown",
   "id": "c06e20f4",
   "metadata": {},
   "source": [
    "Définition de la fonction *derivee* de : $pH = f(V_b)$ :\n",
    "\n",
    "*La dernière ligne de la cellule est à dégrisser (effacer le # en début de ligne), pour afficher les valeurs calculées par cette fonction.* "
   ]
  },
  {
   "cell_type": "code",
   "execution_count": 43,
   "id": "65d250c0",
   "metadata": {},
   "outputs": [],
   "source": [
    "def derivee(x,y):\n",
    "    dery=[]\n",
    "    for i in range (len(x)-1):\n",
    "        deryi=(y[i+1]-y[i])/(x[i+1]-x[i])\n",
    "        dery.append(deryi)\n",
    "    return dery\n",
    "\n",
    "derpH=derivee(Vb,pH)\n",
    "#print(derpH) #Affichage facultatif"
   ]
  },
  {
   "cell_type": "markdown",
   "id": "e2ae94a3",
   "metadata": {},
   "source": [
    "Suppression de la dernière valeur du tableau due à l'affichage de la courbe de la dérivée :"
   ]
  },
  {
   "cell_type": "code",
   "execution_count": 44,
   "id": "7845c691",
   "metadata": {},
   "outputs": [],
   "source": [
    "Vb = np.delete(Vb,-1)\n",
    "pH = np.delete(pH,-1)"
   ]
  },
  {
   "cell_type": "markdown",
   "id": "b8e0e1f0",
   "metadata": {},
   "source": [
    "Les instructions qui suivent paramètrent l'affichage de la **première fenêtre graphique** :"
   ]
  },
  {
   "cell_type": "code",
   "execution_count": null,
   "id": "712b35a6",
   "metadata": {},
   "outputs": [],
   "source": [
    "plt.figure(figsize=(10,10))\n",
    "plt.subplot(2,1,1)\n",
    "plt.plot(Vb,pH,\"r+-\", label=r'$pH$')\n",
    "plt.xlabel(r'$Vb \\ (mL)$')\n",
    "plt.ylabel(r'$pH$')\n",
    "plt.grid()\n",
    "plt.title(\"Titrage de l'acide ethanoique par la soude\")\n",
    "plt.legend()\n",
    "plt.subplot(2,1,2)\n",
    "plt.plot(Vb,derpH,\"b+-\",label=r'$Derivee$')\n",
    "plt.xlabel(r'$Vb \\ (mL)$')\n",
    "plt.ylabel(r'$Derivee \\ (mL^{-1})$')\n",
    "plt.grid()\n",
    "plt.title(\"Determination du volume equivalent\")\n",
    "plt.legend()\n",
    "plt.show()"
   ]
  },
  {
   "cell_type": "markdown",
   "id": "4159a819",
   "metadata": {},
   "source": [
    "Calcul et affichage du **volume équivalent** :"
   ]
  },
  {
   "cell_type": "code",
   "execution_count": null,
   "id": "8c579991",
   "metadata": {},
   "outputs": [],
   "source": [
    "Vbe = Vb[(derpH.index(max(derpH)))]\n",
    "print (\"Vbe =\",Vbe,\"mL\")"
   ]
  },
  {
   "cell_type": "markdown",
   "id": "e803bfe3",
   "metadata": {},
   "source": [
    "Calcul et affichage (facultatif) des **quantitès de matière des reactifs et des produits** à chaque ajout de solution titrante versée :"
   ]
  },
  {
   "cell_type": "code",
   "execution_count": 47,
   "id": "11b12ca9",
   "metadata": {},
   "outputs": [],
   "source": [
    "cb = 0.1 #Concentration de la solution titrante d'hydroxyde de sodium\n",
    "na=np.array([])\n",
    "nb=np.array([])\n",
    "nc=np.array([])\n",
    "for i in range (len(Vb)):\n",
    "    if Vb[i]<=Vbe:\n",
    "        nai = cb*Vbe-cb*Vb[i] #Qte de matiere d'acide ethanoique en mmol\n",
    "        nbi = 0        #Qte de matiere des ions hydroxyde en mmol\n",
    "        nci = cb*Vb[i] #Qte de matiere des ions éthanoate en mmol\n",
    "        na = np.append(na,nai)\n",
    "        nb = np.append(nb,nbi)\n",
    "        nc = np.append(nc,nci)\n",
    "    else:\n",
    "        nai = 0 #Qte de matiere d'acide ethanoique en mmol\n",
    "        nbi = cb*(Vb[i]-Vbe) #Qte de matiere des ions hydroxyde en mmol\n",
    "        nci = cb*Vbe         #Qte de matiere des ions ethanoate en mmol\n",
    "        na = np.append(na,nai)\n",
    "        nb = np.append(nb,nbi)\n",
    "        nc = np.append(nc,nci)\n",
    "\n",
    "#print (na) #Affichage facultatif\n",
    "#print (nb) #Affichage facultatif\n",
    "#print (nc) #Affichage facultatif"
   ]
  },
  {
   "cell_type": "markdown",
   "id": "2c96abd0",
   "metadata": {},
   "source": [
    "Les instructions qui suivent paramètrent l'affichage de la **seconde fenêtre graphique** :"
   ]
  },
  {
   "cell_type": "code",
   "execution_count": null,
   "id": "790d9dda",
   "metadata": {},
   "outputs": [],
   "source": [
    "plt.figure(figsize=(10,8))\n",
    "plt.plot(Vb,na,\"b+-\",label=\"Acide ethanoique\")\n",
    "plt.plot(Vb,nb,\"g+-\",label=\"Ions hydroxyde\")\n",
    "plt.plot(Vb,nc,\"r+-\",label=\"Ions ethanoate\")\n",
    "plt.xlabel(\"Volume de reactif titrant (mL)\")\n",
    "plt.ylabel(\"Quantite de matiere (mmol)\")\n",
    "plt.title(\"Etude des quantites de matiere des especes chimiques presentes dans le vase reactionnel\")\n",
    "plt.legend()\n",
    "plt.grid()\n",
    "plt.show()"
   ]
  },
  {
   "cell_type": "markdown",
   "id": "f4ab14ed",
   "metadata": {},
   "source": [
    "**Avec Anaconda :** une fois complétées, exécuter l'intégralité des cellules : *Cell $\\rightarrow$ Run All*.\n",
    "\n",
    "**En ligne (my Binder):** une fois complétées, exécuter l'intégralité des cellules : *Run $\\rightarrow$ Run all cells*."
   ]
  }
 ],
 "metadata": {
  "kernelspec": {
   "display_name": "Python 3",
   "language": "python",
   "name": "python3"
  },
  "language_info": {
   "codemirror_mode": {
    "name": "ipython",
    "version": 3
   },
   "file_extension": ".py",
   "mimetype": "text/x-python",
   "name": "python",
   "nbconvert_exporter": "python",
   "pygments_lexer": "ipython3",
   "version": "3.8.8"
  }
 },
 "nbformat": 4,
 "nbformat_minor": 5
}
