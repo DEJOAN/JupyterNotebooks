{
 "cells": [
  {
   "cell_type": "markdown",
   "id": "b8d0aa71",
   "metadata": {},
   "source": [
    "# Notebook pour le calcul d'incertitudes-types composées\n",
    "### Méthode de Monte-Carlo pour le calcul de la valeur moyenne et de l'incertitude-type de la concentration molaire Cf de la solution fille Si (i compris entre 1 et 5)\n",
    "\n",
    "*Programme publié par le GRIESP en 2019, adaptations réalisées par Marie-Anne DEJOAN et Marieke Bonnaffé-Moity.*   \n",
    "Première cellule pour déclarer les bibliothèques à importer :"
   ]
  },
  {
   "cell_type": "code",
   "execution_count": null,
   "id": "64af0233",
   "metadata": {},
   "outputs": [],
   "source": [
    "#Importation des bibliothèques\n",
    "import sys\n",
    "!{sys.executable} -m pip install numpy\n",
    "!{sys.executable} -m pip install matplotlib\n",
    "\n",
    "import numpy as np\n",
    "from matplotlib import pyplot as plt"
   ]
  },
  {
   "cell_type": "code",
   "execution_count": 17,
   "id": "edd0018c",
   "metadata": {},
   "outputs": [],
   "source": [
    "# Renvoie une valeur aléatoire de la variable L[0] d'incertitude-type L[1]\n",
    "def Alea(L):\n",
    "    tirage=np.random.normal()   # Tirage entre -infini et +infini (loi normale)\n",
    "    return L[0]+L[1]*tirage\n",
    "\n",
    "# Solution mère et son incertitude\n",
    "Cm=[0.1,0.005] # [valeur,incertitude-type]\n",
    "\n",
    "# Incertitudes sur la verrerie utilisée\n",
    "u_fiole=0.06e-3      # Fiole jaugée à 50 mL\n",
    "u_pipette5=0.03e-3   # Pipette jaugée à 5 mL\n",
    "u_pipette10=0.04e-3  # Pipette jaugée à 10 mL\n",
    "u_pipette20=0.06e-3  # Pipette jaugée à 20 mL"
   ]
  },
  {
   "cell_type": "markdown",
   "id": "f4875b84",
   "metadata": {},
   "source": [
    "Compléter la cellule ci-dessous en suivant cette démarche (*à réiterer pour chaque solution*) :\n",
    "- indiquer le numéro de la solution fille;\n",
    "- indiquer le nombre de fois que chaque pipette a été utilisée pour réaliser la dilution. Inscrire 0 si vous n’avez pas utilisé la pipette dont le volume est précisé.\n",
    "- indiquer le volume de la fiole utilisée."
   ]
  },
  {
   "cell_type": "code",
   "execution_count": 18,
   "id": "14e5db99",
   "metadata": {},
   "outputs": [],
   "source": [
    "numero=...   # Solution fille i (i compris entre 1 et 5)\n",
    "\n",
    "# Prélevement du volume Vm de solution mère :\n",
    "coef_5=...   # nombre de prélevements réalisés avec la pipette jaugée à 5mL (0, 1 ou 2)\n",
    "coef_10=...  # avec la pipette jaugée à 10mL (0, 1 ou 2)\n",
    "coef_20=...  # avec la pipette jaugée à 20mL (0, 1 ou 2)\n",
    "\n",
    "#Volume de fiole utilisée (inscrire 1 pour la fiole utilisée, 0 pour l'autre)\n",
    "Nfiole50=...\n",
    "Nfiole100=...\n",
    "\n",
    "# Incertitude composée sur le volume prélevé de solution mère à l'aide des pipettes jaugées\n",
    "u_pipettes=np.sqrt(coef_5*(u_pipette5**2)+coef_10*(u_pipette10**2)+coef_20*(u_pipette20**2))\n",
    "\n",
    "Vm=[coef_5*5e-3+coef_10*10e-3+coef_20*20e-3,u_pipettes]   # Volume prélevé de la solution mère et incertitude composée\n",
    "Vf=[Nfiole50*50e-3+Nfiole100*100e-3,u_fiole]    # Volume de la solution fille"
   ]
  },
  {
   "cell_type": "markdown",
   "id": "b8e0e1f0",
   "metadata": {},
   "source": [
    "**Avec Anaconda :** une fois complétées, exécuter l'intégralité des cellules : *Cell $\\rightarrow$ Run All*.\n",
    "\n",
    "**En ligne (my Binder):** une fois complétées, exécuter l'intégralité des cellules : *Run $\\rightarrow$ Run all cells*.\n"
   ]
  },
  {
   "cell_type": "code",
   "execution_count": null,
   "id": "116ec580",
   "metadata": {},
   "outputs": [],
   "source": [
    "# Calcul de Cf\n",
    "Cf=Cm[0]*Vm[0]/Vf[0] # Cf: concentration de la solution fille (Si)\n",
    "\n",
    "# Méthode de Monte Carlo pour trouver l'incertitude sur Cf sans formule de propagation des incertitudes\n",
    "LCf=[] # Initialisation de la liste LCf qui contiendra les valeurs successives de Cf calculées par itération\n",
    "iteration=100000\n",
    "\n",
    "for i in range(iteration):\n",
    "    AleaCf=Alea(Cm)*Alea(Vm)/Alea(Vf)\n",
    "    LCf.append(AleaCf) # Ajout de la dernière valeur calculée à la liste LCf\n",
    "\n",
    "MoyCf=np.mean(LCf)        # Calcul de la valeur moyenne de Cf (à partir des éléments qui composent la liste LCf)\n",
    "uCf=np.std(LCf, ddof = 1) # Ecart-type expérimental = incertitude-type de la grandeur Cf\n",
    "\n",
    "# Affichage\n",
    "print('Solution fille n°',numero)\n",
    "print('Calcul de Cf :',Cf,'mol/L')\n",
    "print('Moyenne des Cf :',MoyCf,'mol/L')\n",
    "print('u(Cf) :',uCf,'mol/L')"
   ]
  }
 ],
 "metadata": {
  "kernelspec": {
   "display_name": "Python 3",
   "language": "python",
   "name": "python3"
  },
  "language_info": {
   "codemirror_mode": {
    "name": "ipython",
    "version": 3
   },
   "file_extension": ".py",
   "mimetype": "text/x-python",
   "name": "python",
   "nbconvert_exporter": "python",
   "pygments_lexer": "ipython3",
   "version": "3.8.8"
  }
 },
 "nbformat": 4,
 "nbformat_minor": 5
}
