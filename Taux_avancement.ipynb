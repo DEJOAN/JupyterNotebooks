{
 "cells": [
  {
   "cell_type": "markdown",
   "id": "b8d0aa71",
   "metadata": {},
   "source": [
    "# Notebook permettant de calculer le taux d'avancement final d'une réaction acide/base\n",
    "### Réaction d'un acide faible sur l'eau\n",
    "L'équation de la réaction est notée : $HA + H_2O \\rightarrow A^- + H_3O^+$\n",
    "\n",
    "La **concentration** (en $mol.L^{-1}$) de la solution en acide, le **volume** (en $L$) et le **pKa** du couple acide faible/base faible\n",
    "sont a renseigner.\n",
    "\n",
    "Première cellule pour déclarer les bibliothèques à importer :"
   ]
  },
  {
   "cell_type": "code",
   "execution_count": null,
   "id": "ece3b5ed",
   "metadata": {},
   "outputs": [],
   "source": [
    "#Importation des bibliothèques\n",
    "import sys\n",
    "!{sys.executable} -m pip install numpy\n",
    "\n",
    "import numpy as np"
   ]
  },
  {
   "cell_type": "markdown",
   "id": "cae1f5a4",
   "metadata": {},
   "source": [
    "Définition de la fonction *taux* permettant le calcul des avancements final et maximal :"
   ]
  },
  {
   "cell_type": "code",
   "execution_count": 19,
   "id": "14e5db99",
   "metadata": {},
   "outputs": [],
   "source": [
    "def taux (Ca, pKa, V): #Solution d'acide faible de concentration Ca et de volume V\n",
    "    Ka = 10**(-pKa)\n",
    "    xmax = Ca*V # xmax = Ca*V\n",
    "    #Equation du second degre : (xf/V)**2 + Ka*xf/V-Ka*Ca=0\n",
    "    a = 1/(V**2)\n",
    "    b = Ka/V\n",
    "    c = -Ka*Ca\n",
    "    delta = b**2-4*a*c\n",
    "    xf1 = (-b-np.sqrt(delta))/(2*a)\n",
    "    xf2 = (-b+np.sqrt(delta))/(2*a)\n",
    "    if xf1<0:\n",
    "        xf=xf2\n",
    "    elif xf2<0:\n",
    "        xf = xf1\n",
    "    else :\n",
    "        xf = min(xf1,xf2)\n",
    "    taux = xf/xmax\n",
    "    print(\"L'avancement final vaut \",\"%0.3e\" % xf,\" mol\")\n",
    "    print(\"L'avancement maximal vaut\",\"%0.3e\" % xmax,\"mol\")\n",
    "    print(\"et le taux d'avancement final vaut \", \"%0.3e\" % taux,\" soit \", round(taux*100,3),\"%\")\n",
    "    return (xf,xmax,taux)"
   ]
  },
  {
   "cell_type": "markdown",
   "id": "adb7d7f7",
   "metadata": {},
   "source": [
    "Partie du programme qui est à compléter (valeur des arguments de la fonction *taux*) :"
   ]
  },
  {
   "cell_type": "code",
   "execution_count": 20,
   "id": "1d38e85f",
   "metadata": {},
   "outputs": [],
   "source": [
    "Ca = ...  #Concentration de la solution en acide faible apporte en mol/L\n",
    "pKa = ... #pKa du couple acide faible/base faible\n",
    "V = ...   #Volume de la solution en L"
   ]
  },
  {
   "cell_type": "markdown",
   "id": "171ded56",
   "metadata": {},
   "source": [
    "Appel de la fonction *taux* :"
   ]
  },
  {
   "cell_type": "code",
   "execution_count": null,
   "id": "1d5ac447",
   "metadata": {},
   "outputs": [],
   "source": [
    "taux (Ca,pKa,V)"
   ]
  },
  {
   "cell_type": "markdown",
   "id": "d400b48d",
   "metadata": {},
   "source": [
    "**Avec Anaconda :** une fois le script complété, exécuter l'intégralité des cellules : *Cell $\\rightarrow$ Run All*.\n",
    "\n",
    "**En ligne (my Binder):** une fois le script complété, exécuter l'intégralité des cellules : *Run $\\rightarrow$ Run all cells*.\n"
   ]
  }
 ],
 "metadata": {
  "kernelspec": {
   "display_name": "Python 3",
   "language": "python",
   "name": "python3"
  },
  "language_info": {
   "codemirror_mode": {
    "name": "ipython",
    "version": 3
   },
   "file_extension": ".py",
   "mimetype": "text/x-python",
   "name": "python",
   "nbconvert_exporter": "python",
   "pygments_lexer": "ipython3",
   "version": "3.8.8"
  }
 },
 "nbformat": 4,
 "nbformat_minor": 5
}
