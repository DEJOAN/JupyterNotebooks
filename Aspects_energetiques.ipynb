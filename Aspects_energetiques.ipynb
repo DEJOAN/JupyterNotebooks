{
 "cells": [
  {
   "cell_type": "markdown",
   "id": "5771b0ac",
   "metadata": {},
   "source": [
    "# Transferts énergétiques d'une balle de tennis\n",
    "### Evolution temporelle des différentes énergies au cours du rebond de la balle, qui suit une frappe à plat et une frappe liftée    \n",
    "\n",
    "*Marie-Anne Déjoan - Avril 2020*\n",
    "\n",
    "Première cellule permettant de déclarer les bibliothèques à importer :"
   ]
  },
  {
   "cell_type": "code",
   "execution_count": null,
   "id": "afc4d33e",
   "metadata": {},
   "outputs": [],
   "source": [
    "#Importation des bibliothèques et initialisation des listes\n",
    "import sys\n",
    "!{sys.executable} -m pip install numpy\n",
    "!{sys.executable} -m pip install matplotlib\n",
    "\n",
    "import numpy as np\n",
    "import matplotlib.pyplot as plt\n",
    "from pylab import*\n",
    "import csv\n",
    "\n",
    "# Affichage avec la bibliothèque graphique intégrée à Notebook\n",
    "%matplotlib inline"
   ]
  },
  {
   "cell_type": "markdown",
   "id": "539c9f72",
   "metadata": {},
   "source": [
    "Définition des **variables globales** et importation des **données** sauvegardées dans deux fichiers au format *.csv*.\n",
    "\n",
    "**Avec Anaconda :** Veillez à ce que les deux fichiers *.csv* soit enregistrés dans le même dossier que le Notebook.\n",
    "\n",
    "**En ligne (my Binder):** Dans le répertoire de travail, contenant le Notebook, télécharger les deux fichiers *.csv* via l'onglet *Upload Files*."
   ]
  },
  {
   "cell_type": "code",
   "execution_count": 42,
   "id": "d750950d",
   "metadata": {},
   "outputs": [],
   "source": [
    "m = 0.0567   # Masse de la balle de tennis en kg\n",
    "g = 9.81     # Intensité de pesanteur terrestre en N/kg\n",
    "\n",
    "Source1 = open('PointageRebondPlat.csv','r')\n",
    "Source2 = open('PointageRebondLift.csv','r')\n",
    "Lecteur1 = csv.reader(Source1,delimiter=\";\")\n",
    "Lecteur2 = csv.reader(Source2,delimiter=\";\")"
   ]
  },
  {
   "cell_type": "markdown",
   "id": "c06e20f4",
   "metadata": {},
   "source": [
    "Initialisation des **listes vides** : "
   ]
  },
  {
   "cell_type": "code",
   "execution_count": 43,
   "id": "65d250c0",
   "metadata": {},
   "outputs": [],
   "source": [
    "# Coordonnées d'espace et temporelle de la balle frappée à plat\n",
    "X1,Y1,t1 = [],[],[]\n",
    "# Coordonnées d'espace et temporelle de la balle liftée\n",
    "X2,Y2,t2 = [],[],[]\n",
    "# Vitesses et énergies de la balle frappée à plat\n",
    "Vx1,Vy1,V1,Ec1,Epp1,Em1 = [],[],[],[],[],[]\n",
    "# Vitesses et énergies de la balle liftée\n",
    "Vx2,Vy2,V2,Ec2,Epp2,Em2 = [],[],[],[],[],[]"
   ]
  },
  {
   "cell_type": "markdown",
   "id": "692e0f29",
   "metadata": {},
   "source": [
    "Construction des listes pour la **balle frappée à plat** :"
   ]
  },
  {
   "cell_type": "code",
   "execution_count": null,
   "id": "8b20ff27",
   "metadata": {},
   "outputs": [],
   "source": [
    "for row in Lecteur1:\n",
    "    X1.append(float(row[0]))\n",
    "    Y1.append(float(row[1]))\n",
    "    t1.append(float(row[2]))\n",
    "\n",
    "nbre_mesure1 = len(X1)\n",
    "\n",
    "# Vx et Vy : vitesse numérique centrée\n",
    "for n in range(1,nbre_mesure1-1):\n",
    "    Vx1.append((X1[n+1]-X1[n-1])/(t1[n+1]-t1[n-1]))\n",
    "    Vy1.append((Y1[n+1]-Y1[n-1])/(t1[n+1]-t1[n-1]))\n",
    "    V1.append(sqrt(Vx1[n-1]**2+Vy1[n-1]**2))\n",
    "\n",
    "# On supprime le 1er et le dernier élément de Y1 et de t1 (suite au calcul de la vitesse)\n",
    "Y1 = delete(Y1,0)\n",
    "Y1 = delete(Y1,len(Y1)-1)\n",
    "t1 = delete(t1,0)\n",
    "t1 = delete(t1,len(t1)-1)\n",
    "\n",
    "for n in range(0,len(t1)):\n",
    "    Ec1.append(0.5*m*V1[n]**2)\n",
    "    Epp1.append(m*g*Y1[n])\n",
    "    Em1.append(Ec1[n]+Epp1[n])"
   ]
  },
  {
   "cell_type": "markdown",
   "id": "32a03c8e",
   "metadata": {},
   "source": [
    "Construction des listes pour **la balle liftée** :"
   ]
  },
  {
   "cell_type": "code",
   "execution_count": null,
   "id": "ca2e6a24",
   "metadata": {},
   "outputs": [],
   "source": [
    "for row in Lecteur2:\n",
    "    X2.append(float(row[0]))\n",
    "    Y2.append(float(row[1]))\n",
    "    t2.append(float(row[2]))\n",
    "\n",
    "nbre_mesure2 = len(X2)\n",
    "\n",
    "for n in range(1,nbre_mesure2-1):\n",
    "    Vx2.append((X2[n+1]-X2[n-1])/(t2[n+1]-t2[n-1]))\n",
    "    Vy2.append((Y2[n+1]-Y2[n-1])/(t2[n+1]-t2[n-1]))\n",
    "    V2.append(sqrt(Vx2[n-1]**2+Vy2[n-1]**2))\n",
    "\n",
    "# On supprime le 1er et le dernier élément de Y2 et de t2\n",
    "Y2 = delete(Y2,0)\n",
    "Y2 = delete(Y2,len(Y2)-1)\n",
    "t2 = delete(t2,0)\n",
    "t2 = delete(t2,len(t2)-1)\n",
    "\n",
    "for n in range(0,len(t2)):\n",
    "    Ec2.append(0.5*m*V2[n]**2)\n",
    "    Epp2.append(m*g*Y2[n])\n",
    "    Em2.append(Ec2[n]+Epp2[n])"
   ]
  },
  {
   "cell_type": "markdown",
   "id": "b8e0e1f0",
   "metadata": {},
   "source": [
    "Les instructions qui suivent paramètrent l'affichage du  **graphique** :"
   ]
  },
  {
   "cell_type": "code",
   "execution_count": null,
   "id": "02da501c",
   "metadata": {},
   "outputs": [],
   "source": [
    "fenetre1 = plt.figure('Fenetre 1', figsize=(14,10))\n",
    "\n",
    "# Epp balle frappée à plat\n",
    "graph1 = fenetre1.add_subplot(231)\n",
    "graph1.plot(t1,Epp1,'+b',label = 'Balle frappée à plat')\n",
    "plt.title('Evolution temporelle de $Epp$')\n",
    "#plt.xlabel(r'$t \\ (en \\ s)$')\n",
    "plt.ylabel(r'$Energie \\ (en \\ J)$')\n",
    "graph1.legend()\n",
    "\n",
    "# Epp balle liftée\n",
    "graph2 = fenetre1.add_subplot(234)\n",
    "graph2.plot(t2,Epp2,'+b',label = 'Balle liftée')\n",
    "plt.xlabel(r'$t \\ (en \\ s)$')\n",
    "plt.ylabel(r'$Energie \\ (en \\ J)$')\n",
    "graph2.legend()\n",
    "\n",
    "# Ec balle frappée à plat\n",
    "graph3 = fenetre1.add_subplot(232)\n",
    "graph3.plot(t1,Ec1,'+r',label = 'Plat')\n",
    "plt.title('Evolution temporelle de $Ec$')\n",
    "#plt.xlabel(r'$t \\ (en \\ s)$')\n",
    "#plt.ylabel(r'$Ec \\ (en \\ J)$')\n",
    "graph3.legend()\n",
    "\n",
    "# Ec balle liftée\n",
    "graph4 = fenetre1.add_subplot(235)\n",
    "graph4.plot(t2,Ec2,'+r',label = 'Lift')\n",
    "plt.xlabel(r'$t \\ (en \\ s)$')\n",
    "#plt.ylabel(r'$Ec \\ (en \\ J)$')\n",
    "graph4.legend()\n",
    "\n",
    "# Em balle frappée à plat\n",
    "graph5 = fenetre1.add_subplot(233)\n",
    "graph5.plot(t1,Em1,'+g',label = 'Plat')\n",
    "plt.title('Evolution temporelle de $Em$')\n",
    "#plt.xlabel(r'$t \\ (en \\ s)$')\n",
    "#plt.ylabel(r'$Em \\ (en \\ J)$')\n",
    "graph5.legend()\n",
    "\n",
    "# Em balle liftée\n",
    "graph6 = fenetre1.add_subplot(236)\n",
    "graph6.plot(t2,Em2,'+g',label = 'Lift')\n",
    "plt.xlabel(r'$t \\ (en \\ s)$')\n",
    "#plt.ylabel(r'$Em \\ (en \\ J)$')\n",
    "graph6.legend()\n",
    "\n",
    "#Tracer du graphique\n",
    "plt.show()"
   ]
  },
  {
   "cell_type": "markdown",
   "id": "f4ab14ed",
   "metadata": {},
   "source": [
    "**Avec Anaconda :** une fois complétées, exécuter l'intégralité des cellules : *Cell $\\rightarrow$ Run All*.\n",
    "\n",
    "**En ligne (my Binder):** une fois complétées, exécuter l'intégralité des cellules : *Run $\\rightarrow$ Run all cells*."
   ]
  }
 ],
 "metadata": {
  "kernelspec": {
   "display_name": "Python 3",
   "language": "python",
   "name": "python3"
  },
  "language_info": {
   "codemirror_mode": {
    "name": "ipython",
    "version": 3
   },
   "file_extension": ".py",
   "mimetype": "text/x-python",
   "name": "python",
   "nbconvert_exporter": "python",
   "pygments_lexer": "ipython3",
   "version": "3.8.8"
  }
 },
 "nbformat": 4,
 "nbformat_minor": 5
}
