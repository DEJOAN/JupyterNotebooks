{
 "cells": [
  {
   "cell_type": "markdown",
   "metadata": {},
   "source": [
    "# Notebook pour la construction d'histogrammes \n",
    "### Mesure de masses d'un volume d'eau prélevé à l'aide de différentes pièces de verrerie : \n",
    " - bécher de 150 mL\n",
    " - éprouvette graduée de 50 mL\n",
    " - fiole jaugée à 50 mL\n",
    " \n"
   ]
  },
  {
   "cell_type": "code",
   "execution_count": null,
   "metadata": {},
   "outputs": [],
   "source": [
    "import sys\n",
    "!{sys.executable} -m pip install numpy\n",
    "!{sys.executable} -m pip install matplotlib\n",
    "\n",
    "# Chargement des bibliothèques\n",
    "import csv\n",
    "import numpy as np\n",
    "import matplotlib.pyplot as plt\n",
    "\n",
    "# Affichage avec la bibliothèque graphique intégrée à Notebook\n",
    "%matplotlib inline"
   ]
  },
  {
   "cell_type": "markdown",
   "metadata": {},
   "source": [
    "### Définir et appeler la fonction Donnees() \n",
    "*Cette fonction permet d'importer des données numériques issues d'un fichier .csv et de créer un tableau à plusieurs colonnes.*"
   ]
  },
  {
   "cell_type": "code",
   "execution_count": 2,
   "metadata": {},
   "outputs": [],
   "source": [
    "def Donnees(fichier, delimiter=\";\",N=0):\n",
    "    with open(fichier, 'r', encoding='utf-8') as f :\n",
    "        read = csv.reader(f, delimiter=delimiter)\n",
    "        table=[]\n",
    "        index_row=0\n",
    "        for row in read:\n",
    "            if index_row < N:\n",
    "                index_row = index_row+1\n",
    "            else :\n",
    "                for i in range (len(row)):\n",
    "                    if len(table) <= i:\n",
    "                        X = []\n",
    "                        table.append(X)\n",
    "                    try:\n",
    "                        table[i].append(float(row[i].replace(\",\",'.')))\n",
    "                    except ValueError:\n",
    "                        print('Erreur:contenu de cellule non numérique')\n",
    "                        continue\n",
    "        return (table)"
   ]
  },
  {
   "cell_type": "code",
   "execution_count": null,
   "metadata": {},
   "outputs": [],
   "source": [
    "# Le début du chemin n'a pas besoin d'être spécifié si le fichier .csv se trouve dans le même dossier que ce fichier notebook\n",
    "table = Donnees('mesure_de_masses.csv',delimiter=\";\",N=0)\n",
    "m_becher=table[0]\n",
    "print(m_becher)\n",
    "m_eprouvette=table[1]\n",
    "print(m_eprouvette)\n",
    "m_fiole=table[2]\n",
    "print(m_fiole)"
   ]
  },
  {
   "cell_type": "markdown",
   "metadata": {},
   "source": [
    "### Calculer et afficher les valeurs moyennes \n",
    "*Les valeurs moyennes sont exprimées avec une décimale.* *Pour le calcul et l'affichage des écarts-types, les lignes précédées de # sont à dégriser.*\n",
    "\n"
   ]
  },
  {
   "cell_type": "code",
   "execution_count": 28,
   "metadata": {},
   "outputs": [
    {
     "name": "stdout",
     "output_type": "stream",
     "text": [
      "Nombre de mesures réalisées (par série): 60 \n",
      "\n",
      "Moyenne arithmétique de m_becher : 48.178 g\n",
      "Valeur maximale : 53.8 g et valeur minimale : 43.7 g\n",
      "\n",
      "Moyenne arithmétique de m_eprouvette : 49.988 g\n",
      "Valeur maximale : 51.3 g et valeur minimale : 49.2 g\n",
      "\n",
      "Moyenne arithmétique de m_fiole : 49.765 g\n",
      "Valeur maximale : 50.5 g et valeur minimale : 49.2 g\n",
      "\n"
     ]
    }
   ],
   "source": [
    "n=len(m_becher) # Compte le nombre d'éléments présents dans le tableau à 1 dimension et l'affecte à la variable n\n",
    "print('Nombre de mesures réalisées (par série):', n,'\\n')\n",
    "\n",
    "# Moyenne de la masse (et écart-type) à l'aide du bécher\n",
    "print('Moyenne arithmétique de m_becher :',round(np.mean(m_becher),3),'g') # Affiche la moyenne sur l'ensemble des mesures effectuées\n",
    "print('Valeur maximale :',np.max(m_becher),'g','et valeur minimale :',np.min(m_becher),'g\\n')\n",
    "#s=np.std(m_becher, ddof = 1) # Calcul l'écart-type à n-1 et l'affecte à la variable s\n",
    "#print('Ecart-type pour la série de mesures de m_becher :', round(s,4), 'g') # Affiche l'écart-type non biaisé\n",
    "\n",
    "# Moyenne de la masse (et écart-type) à l'aide de l'éprouvette graduée\n",
    "print('Moyenne arithmétique de m_eprouvette :',round(np.mean(m_eprouvette),3),'g')\n",
    "print('Valeur maximale :',np.max(m_eprouvette),'g','et valeur minimale :',np.min(m_eprouvette),'g\\n')\n",
    "#t=np.std(m_eprouvette, ddof = 1)\n",
    "#print('Ecart-type pour la série de mesures de m_eprouvette :', round(t,4), 'g')\n",
    "\n",
    "# Moyenne de la masse (et écart-type) à l'aide de la fiole jaugée\n",
    "print('Moyenne arithmétique de m_fiole :',round(np.mean(m_fiole),3),'g')\n",
    "print('Valeur maximale :',np.max(m_fiole),'g','et valeur minimale :',np.min(m_fiole),'g\\n')\n",
    "#u=np.std(m_fiole, ddof = 1)\n",
    "#print('Ecart-type pour la série de mesures de m_fiole :', round(u,4), 'g')"
   ]
  },
  {
   "cell_type": "markdown",
   "metadata": {},
   "source": [
    "### Tracer et paramétrer les histogrammes\n",
    "*La valeur de masse de référence \"m_ref\" est à indiquer dans la cellule ci-dessous, elle doit être exprimée en g.*"
   ]
  },
  {
   "cell_type": "code",
   "execution_count": 6,
   "metadata": {},
   "outputs": [
    {
     "data": {
      "text/plain": [
       "<Figure size 432x288 with 0 Axes>"
      ]
     },
     "metadata": {},
     "output_type": "display_data"
    },
    {
     "data": {
      "image/png": "[encoded data removed]",
      "text/plain": [
       "<Figure size 576x720 with 3 Axes>"
      ]
     },
     "metadata": {
      "needs_background": "light"
     },
     "output_type": "display_data"
    }
   ],
   "source": [
    "m_ref = 49.839\n",
    "\n",
    "plt.figure(\"Masse du volume d'eau prélevé\") # Définit le nom de la figure\n",
    "\n",
    "plt.figure(figsize=(8,10))\n",
    "plt.subplot(3,1,1) # Partage la figure en 3x1 emplacements de graphes (3 lignes et 1 colonne) et sélectionne le 1er emplacement\n",
    "plt.hist([m_becher],range=(m_ref-7,m_ref+7),bins=4*int((m_ref+7)-(m_ref-7)),color=[(0.2, 0.9,0.1)])\n",
    "plt.title(\"Masses mesurées avec un bécher de 150 mL, une éprouvette graduée de 50 mL \\n ou une fiole jaugée à 50 mL\")\n",
    "plt.ylabel('Effectif')\n",
    "plt.legend([\"Bécher\"])\n",
    "\n",
    "plt.subplot(3,1,2)\n",
    "plt.hist([m_eprouvette],range=(m_ref-7,m_ref+7),bins=4*int((m_ref+7)-(m_ref-7)),color=['#ffee00'])\n",
    "plt.ylabel('Effectif')\n",
    "plt.legend([\"Eprouvette graduée\"])\n",
    "\n",
    "plt.subplot(3,1,3)\n",
    "plt.hist([m_fiole],range=(m_ref-7,m_ref+7),bins=4*int((m_ref+7)-(m_ref-7)),color=['magenta'])\n",
    "plt.xlabel(\"Masse en $g$\")\n",
    "plt.ylabel('Effectif')\n",
    "plt.legend([\"Fiole jaugée\"])\n",
    "\n",
    "plt.show()"
   ]
  },
  {
   "cell_type": "code",
   "execution_count": null,
   "metadata": {},
   "outputs": [],
   "source": []
  }
 ],
 "metadata": {
  "kernelspec": {
   "display_name": "Python 3",
   "language": "python",
   "name": "python3"
  },
  "language_info": {
   "codemirror_mode": {
    "name": "ipython",
    "version": 3
   },
   "file_extension": ".py",
   "mimetype": "text/x-python",
   "name": "python",
   "nbconvert_exporter": "python",
   "pygments_lexer": "ipython3",
   "version": "3.8.5"
  }
 },
 "nbformat": 4,
 "nbformat_minor": 4
}
